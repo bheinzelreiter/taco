{
 "cells": [
  {
   "cell_type": "code",
   "execution_count": 6,
   "metadata": {},
   "outputs": [],
   "source": [
    "import os\n",
    "os.environ['CACHE_KERNELS'] = '0'\n",
    "\n",
    "import pytaco as pt\n",
    "import numpy as np\n",
    "\n",
    "pt.set_num_threads(1)"
   ]
  },
  {
   "cell_type": "code",
   "execution_count": 9,
   "metadata": {},
   "outputs": [],
   "source": [
    "def generateTensors():\n",
    "    tensors = []\n",
    "\n",
    "    for _ in range(500):\n",
    "        a = pt.from_array(np.array([[1, 2, 3], [4, 5, 6], [7, 8, 9]]))\n",
    "        b = pt.from_array(np.array([[9, 8, 7], [6, 5, 4], [3, 2, 1]]))\n",
    "        i, j, k = pt.get_index_vars(3)\n",
    "        format = pt.format([pt.dense, pt.dense])\n",
    "        c = pt.tensor([3, 3], fmt=format)\n",
    "        c[i, j] = a[i, k] * b[k, j]\n",
    "        tensors.append(c)\n",
    "    \n",
    "    return tensors"
   ]
  },
  {
   "cell_type": "code",
   "execution_count": 10,
   "metadata": {},
   "outputs": [],
   "source": [
    "for t in generateTensors():\n",
    "    t.compile()\n",
    "    t.evaluate()\n",
    "    t.compile()"
   ]
  },
  {
   "cell_type": "code",
   "execution_count": 11,
   "metadata": {},
   "outputs": [
    {
     "name": "stdout",
     "output_type": "stream",
     "text": [
      "Compiling in one module\n",
      "compilation done\n"
     ]
    }
   ],
   "source": [
    "tensors = generateTensors()\n",
    "\n",
    "print(\"Compiling in one module\")\n",
    "\n",
    "pt.compile_in_one_module([t._tensor for t in tensors])\n",
    "print(\"compilation done\")\n",
    "for t in tensors:\n",
    "    t.assemble()\n",
    "    t.compute()"
   ]
  }
 ],
 "metadata": {
  "kernelspec": {
   "display_name": "Python 3",
   "language": "python",
   "name": "python3"
  },
  "language_info": {
   "codemirror_mode": {
    "name": "ipython",
    "version": 3
   },
   "file_extension": ".py",
   "mimetype": "text/x-python",
   "name": "python",
   "nbconvert_exporter": "python",
   "pygments_lexer": "ipython3",
   "version": "3.10.12"
  }
 },
 "nbformat": 4,
 "nbformat_minor": 2
}
